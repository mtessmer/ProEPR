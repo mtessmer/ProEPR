{
 "cells": [
  {
   "cell_type": "markdown",
   "id": "5268c516e640235d",
   "metadata": {},
   "source": [
    "# OpenMM Score Function for Amino Acid Repacking\n",
    "\n",
    "This example demonstrates how openMM can be used with chilife to perform side chain repacking. While this example currently only works with native amino acids it will ideally lead to a set of methods to integrate with non-canonical amino acids. Because this example integrates with OpenMM it does require it as a dependency. OpenMM is best installed via cond-forge."
   ]
  },
  {
   "cell_type": "code",
   "execution_count": 1,
   "id": "ed636b7d-279b-4791-b61a-9d6298b11f6f",
   "metadata": {
    "jupyter": {
     "is_executing": true
    }
   },
   "outputs": [
    {
     "name": "stderr",
     "output_type": "stream",
     "text": [
      "C:\\Users\\mhtes\\micromamba\\envs\\openMM\\Lib\\site-packages\\tqdm\\auto.py:21: TqdmWarning: IProgress not found. Please update jupyter and ipywidgets. See https://ipywidgets.readthedocs.io/en/stable/user_install.html\n",
      "  from .autonotebook import tqdm as notebook_tqdm\n"
     ]
    }
   ],
   "source": [
    "import numpy as np\n",
    "from scipy.optimize import linear_sum_assignment\n",
    "import matplotlib.pyplot as plt\n",
    "\n",
    "import chilife as xl\n",
    "from tempfile import TemporaryDirectory \n",
    "\n",
    "from openmm import * \n",
    "from openmm.app import *"
   ]
  },
  {
   "cell_type": "code",
   "execution_count": 2,
   "id": "d8e356ba-e206-4fc4-a724-3fdf481c44f0",
   "metadata": {},
   "outputs": [],
   "source": [
    "def match_atoms(reference, subject):\n",
    "    \"\"\" Helper function to match openMM atoms with chilife RotamerEnsemble atoms since they will likely be in different orders and have different names. \n",
    "    This works by looping through all rotamers and finding atom-pair matching that minimizes the RMSD between the RotamerEnsemble atoms and the OpenMM atoms.\n",
    "    This operation is performed on every rotamer in the library and the best scoring pairing is used.\"\"\"\n",
    "    \n",
    "    # Initialize storage variables\n",
    "    dmin_score = np.inf\n",
    "    dmap = None\n",
    "    \n",
    "    # Loop through rotamers\n",
    "    for i, sub in enumerate(subject.coords):\n",
    "        \n",
    "        # Create pairwise distance  metrix between atoms \n",
    "        diff = reference.positions[:,None, ...] - sub[None, ...]\n",
    "        diff = diff * diff\n",
    "        diff = np.sum(diff, axis=-1)\n",
    "        \n",
    "        # Identify best pairing\n",
    "        idx1, idx2 =linear_sum_assignment(diff)\n",
    "        args = [(a, b) for a, b in zip(idx1, idx2)]\n",
    "        score = np.sum([diff[arg] for arg in args])\n",
    "        \n",
    "        # Compare with previous best and store if necessary\n",
    "        if score < dmin_score:\n",
    "            dmap = idx2\n",
    "            dmin_score = score\n",
    "\n",
    "    return dmap\n",
    "\n",
    "\n",
    "class OpenMMEnergyFunc:\n",
    "    \"\"\"Score function for repacking. Note that this function uses the amber14 forcefield which does not parameterize any spin labels or most other NCAAs used by chilife. This examples uses only Natrual amino acids to demonstrate\n",
    "    How chiLife can be integrated with OpenMM. \"\"\"\n",
    "    \n",
    "    def __init__(self, protein):\n",
    "        \"\"\"This object will take in a single protein. This protein should have all atoms present (including hydrogen atoms) with no heterogens or other abnormalities. A structure like this can be prepared with something like PDBFixer.\n",
    "        For each site the structure should already be mutated to the appropriate amino acid you wish to model. This can be done using the ``xl.mutate`` function. During construction an OpenMM.Simulation object will be created \n",
    "        which can be re-used for all RotamerEnsembles being attached to this protein\"\"\"\n",
    "        \n",
    "        protein = protein.atoms\n",
    "        self.protein = protein\n",
    "        \n",
    "        # Write protein to temporary file to load in with OpenMM PDBFile for quick and easy topology and parameterization \n",
    "        with TemporaryDirectory() as tempdir:\n",
    "            xl.save(f'{tempdir}/tmp.pdb', protein)\n",
    "            pdb = PDBFile(f'{tempdir}/tmp.pdb')\n",
    "            \n",
    "        # Use Amber14 forcefield with GBN2 implicit solvent model\n",
    "        ff = ForceField('amber14-all.xml', 'implicit/gbn2.xml')\n",
    "        \n",
    "        # Use only non-bonded forces since bonded forces of the protein will not change and bonded forces of the rotamers should be accounted for in the library.\n",
    "        ff._forces = [force for force in ff._forces if isinstance(force, forcefield.NonbondedGenerator)]\n",
    "        \n",
    "        # Create and store simulation object for energy calculations \n",
    "        omm_system = ff.createSystem(pdb.topology, nonbondedMethod=CutoffNonPeriodic, nonbondedCutoff=1.0*unit.nanometer)\n",
    "        integrator = LangevinMiddleIntegrator(300*unit.kelvin, 1/unit.picosecond, 0.004*unit.picoseconds)\n",
    "        self.simulation = Simulation(pdb.topology, omm_system, integrator)\n",
    "        \n",
    "        \n",
    "\n",
    "    def prepare_system(self, system):\n",
    "\n",
    "        # Identify and store system indices that correspond to the rotamer ensemble\n",
    "        psel = self.protein.select_atoms(system.selstr)\n",
    "        system.efunc_protein_ix = psel.ix\n",
    "        system.efunc_residue_ix = match_atoms(psel, system)\n",
    "        \n",
    "\n",
    "    def __call__(self, system, **kwargs):\n",
    "        \"\"\"Only requirement for a chilife energy  function is to accept a ``system`` and return an energy score in kcal/mol for each rotamer in that system.\"\"\"\n",
    "        if not hasattr(system,  'efunc_protein_ix'):\n",
    "            self.prepare_system(system)\n",
    "        \n",
    "        pose_start = self.protein.positions\n",
    "\n",
    "        Es = []\n",
    "        for rot in system.coords:\n",
    "            pose_start[system.efunc_protein_ix] = rot[system.efunc_residue_ix]\n",
    "            self.simulation.context.setPositions(pose_start * unit.angstrom)\n",
    "            energy = self.simulation.context.getState(getEnergy=True).getPotentialEnergy().value_in_unit(unit.kilocalorie_per_mole)\n",
    "            Es.append(energy)\n",
    "\n",
    "        Es = np.array(Es)\n",
    "        return Es"
   ]
  },
  {
   "cell_type": "code",
   "execution_count": 3,
   "id": "c9aea64b-854f-4c59-a2d8-9829d0240c5d",
   "metadata": {
    "jupyter": {
     "is_executing": true
    }
   },
   "outputs": [],
   "source": [
    "# Load in protein object\n",
    "protein = xl.load_protein('system.pdb')\n",
    "\n",
    "# Create Energy function unique to this protein\n",
    "omm_efunc = OpenMMEnergyFunc(protein)\n",
    "\n",
    "# Create a rotamer ensemble of at lysine 48 using ORS and the new energy function\n",
    "RL = xl.RotamerEnsemble('LYS', 48, protein, sample=5000, use_H=True, energy_func=omm_efunc)\n"
   ]
  },
  {
   "cell_type": "code",
   "execution_count": 4,
   "id": "62b989eea42a5268",
   "metadata": {},
   "outputs": [
    {
     "name": "stderr",
     "output_type": "stream",
     "text": [
      "100%|████████████████████████████████████████████████████████████████████████████████| 200/200 [00:03<00:00, 52.54it/s]\n"
     ]
    }
   ],
   "source": [
    "# Perform repacking around the new rotamer library using the same energy function\n",
    "traj, de = xl.repack(protein, RL, energy_func=omm_efunc) "
   ]
  },
  {
   "cell_type": "code",
   "execution_count": 5,
   "id": "2edc61a5-991a-4c99-97f9-accd78424d13",
   "metadata": {},
   "outputs": [
    {
     "data": {
      "image/png": "[encoded data removed]",
      "text/plain": [
       "<Figure size 640x480 with 1 Axes>"
      ]
     },
     "metadata": {},
     "output_type": "display_data"
    }
   ],
   "source": [
    "fig, ax = plt.subplots()\n",
    "ax.plot(np.cumsum(de))\n",
    "\n",
    "ax.set_xlabel('Step')\n",
    "ax.set_ylabel('Change in energy (kcal/mol)')\n",
    "plt.show()"
   ]
  }
 ],
 "metadata": {
  "kernelspec": {
   "display_name": "openMM",
   "language": "python",
   "name": "zz_openmm"
  },
  "language_info": {
   "codemirror_mode": {
    "name": "ipython",
    "version": 3
   },
   "file_extension": ".py",
   "mimetype": "text/x-python",
   "name": "python",
   "nbconvert_exporter": "python",
   "pygments_lexer": "ipython3",
   "version": "3.11.7"
  }
 },
 "nbformat": 4,
 "nbformat_minor": 5
}
